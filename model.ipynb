{
 "cells": [
  {
   "cell_type": "code",
   "execution_count": 1,
   "id": "49cbcb88",
   "metadata": {},
   "outputs": [],
   "source": [
    "import torch\n",
    "import torchvision\n",
    "import matplotlib.pyplot as plt\n",
    "from mnist import MNIST\n",
    "from sklearn import manifold\n",
    "import numpy as np\n",
    "from time import time\n",
    "import os\n",
    "from matplotlib import offsetbox\n",
    "from torch.utils.tensorboard import SummaryWriter"
   ]
  },
  {
   "cell_type": "code",
   "execution_count": 2,
   "id": "9ae07651",
   "metadata": {},
   "outputs": [],
   "source": [
    "mndata = MNIST('Data/mnist')\n",
    "train_images, train_labels = mndata.load_training()\n",
    "test_images, test_labels = mndata.load_testing()"
   ]
  },
  {
   "cell_type": "code",
   "execution_count": 3,
   "id": "51b1c3c0",
   "metadata": {},
   "outputs": [],
   "source": [
    "X_tr = np.array(train_images)\n",
    "y_tr = np.array(train_labels)\n",
    "X_te = np.array(test_images)\n",
    "y_te = np.array(test_labels)"
   ]
  },
  {
   "cell_type": "code",
   "execution_count": 34,
   "id": "9073f950",
   "metadata": {},
   "outputs": [
    {
     "name": "stdout",
     "output_type": "stream",
     "text": [
      "(60000, 1, 28, 28)\n",
      "(10000, 1, 28, 28)\n"
     ]
    }
   ],
   "source": [
    "img_tr = X_tr.reshape([-1, 1,28,28])\n",
    "img_te = X_te.reshape([-1, 1,28,28])\n",
    "print(img_tr.shape)\n",
    "print(img_te.shape)"
   ]
  },
  {
   "cell_type": "code",
   "execution_count": 54,
   "id": "9f26d95e",
   "metadata": {},
   "outputs": [
    {
     "name": "stdout",
     "output_type": "stream",
     "text": [
      "1    1135\n",
      "2    1032\n",
      "7    1028\n",
      "3    1010\n",
      "9    1009\n",
      "4     982\n",
      "0     980\n",
      "8     974\n",
      "6     958\n",
      "5     892\n",
      "dtype: int64\n",
      "1    6742\n",
      "7    6265\n",
      "3    6131\n",
      "2    5958\n",
      "9    5949\n",
      "0    5923\n",
      "6    5918\n",
      "8    5851\n",
      "4    5842\n",
      "5    5421\n",
      "dtype: int64\n"
     ]
    }
   ],
   "source": [
    "import pandas as pd\n",
    "df_te = pd.Series(y_te)\n",
    "df_tr = pd.Series(y_tr)\n",
    "print(df_te.value_counts())\n",
    "print(df_tr.value_counts())"
   ]
  },
  {
   "cell_type": "code",
   "execution_count": 6,
   "id": "f5a0bad0",
   "metadata": {},
   "outputs": [
    {
     "data": {
      "text/plain": [
       "(60000, 1, 28, 28)"
      ]
     },
     "execution_count": 6,
     "metadata": {},
     "output_type": "execute_result"
    }
   ],
   "source": [
    "# X_tr = X_tr.reshape([-1, 28, 28])\n",
    "img_tr.shape"
   ]
  },
  {
   "cell_type": "code",
   "execution_count": 7,
   "id": "2919cb27",
   "metadata": {},
   "outputs": [],
   "source": [
    "# Scale and visualize the embedding vectors\n",
    "def plot_embedding(X, y, img, title=None):\n",
    "    x_min, x_max = np.min(X, 0), np.max(X, 0)\n",
    "    X = (X - x_min) / (x_max - x_min)\n",
    "\n",
    "    plt.figure()\n",
    "    ax = plt.subplot(111)\n",
    "    for i in range(X.shape[0]):\n",
    "        plt.text(X[i, 0], X[i, 1], str(y[i]),\n",
    "                 color=plt.cm.Set1(y[i] / 10.),\n",
    "                 fontdict={'weight': 'bold', 'size': 9})\n",
    "\n",
    "    if hasattr(offsetbox, 'AnnotationBbox'):\n",
    "        # only print thumbnails with matplotlib > 1.0\n",
    "        shown_images = np.array([[1., 1.]])  # just something big\n",
    "        for i in range(X.shape[0]):\n",
    "            dist = np.sum((X[i] - shown_images) ** 2, 1)\n",
    "            if np.min(dist) < 4e-2:\n",
    "                # don't show points that are too close\n",
    "                continue\n",
    "            shown_images = np.r_[shown_images, [X[i]]]\n",
    "            imagebox = offsetbox.AnnotationBbox(\n",
    "                offsetbox.OffsetImage(img[i], cmap=plt.cm.gray_r),\n",
    "                X[i])\n",
    "            ax.add_artist(imagebox)\n",
    "    plt.xticks([]), plt.yticks([])\n",
    "    if title is not None:\n",
    "        plt.title(title)"
   ]
  },
  {
   "cell_type": "code",
   "execution_count": 8,
   "id": "89d482c5",
   "metadata": {},
   "outputs": [],
   "source": [
    "# t-SNE embedding of the digits dataset\n",
    "# print(\"Computing t-SNE embedding\")\n",
    "# tsne = manifold.TSNE(n_components=2, init='pca', random_state=0)\n",
    "\n",
    "# s = time()\n",
    "# X_tsne = tsne.fit_transform(X_te[:1000])\n",
    "# print(time() - s)\n",
    "\n",
    "# plot_embedding(X_tsne, y_te[:1000], img_te.reshape([-1, 28,28,1]),\n",
    "#                \"t-SNE embedding of the digits\")"
   ]
  },
  {
   "cell_type": "code",
   "execution_count": 9,
   "id": "b12a2b95",
   "metadata": {},
   "outputs": [],
   "source": [
    "import torch.nn as nn\n",
    "import torch.nn.functional as F"
   ]
  },
  {
   "cell_type": "code",
   "execution_count": 10,
   "id": "08f6ab0c",
   "metadata": {},
   "outputs": [],
   "source": [
    "class AutoEncoder(nn.Module):\n",
    "    def __init__(self):\n",
    "        super(AutoEncoder, self).__init__()\n",
    "        #Encoder\n",
    "        self.conv1 = nn.Conv2d( 1,  8, 3, stride=2,padding=1) #28x28x1 -> 14x14x8\n",
    "        self.conv2 = nn.Conv2d( 8, 16, 3, stride=2,padding=1) #14x14x8 -> 7x7x16\n",
    "        self.conv3 = nn.Conv2d(16, 32, 3, stride=2) #7x7x16 -> 3x3x32\n",
    "        self.conv4 = nn.Conv2d(32, 32, 3, stride=1) #3x3x32 -> 1x1x32\n",
    "        self.fc1   = nn.Linear(32, 10)\n",
    "        \n",
    "        #Decoder\n",
    "        self.t_fc1   = nn.Linear(10, 32) # [32]\n",
    "        self.t_conv1 = nn.ConvTranspose2d(32, 32, 3, stride=2)\n",
    "        self.t_conv2 = nn.ConvTranspose2d(32, 16, 3, stride=2)\n",
    "        self.t_conv3 = nn.ConvTranspose2d(16,  8, 3, stride=2, padding=1)\n",
    "        self.t_conv4 = nn.ConvTranspose2d(8,   1, 3, stride=2, output_padding=1)\n",
    "    \n",
    "    def encoder(self, x):\n",
    "        x = F.relu(self.conv1(x))\n",
    "        x = F.relu(self.conv2(x))        \n",
    "        x = F.relu(self.conv3(x))        \n",
    "        x = F.relu(self.conv4(x))\n",
    "        x = torch.flatten(x, start_dim=1)\n",
    "        x = F.relu(self.fc1(x))\n",
    "        return x\n",
    "    \n",
    "    def decoder(self, x):\n",
    "        x = F.relu(self.t_fc1(x)) # 10 -> 32\n",
    "        x = x.reshape([-1,32,1,1])\n",
    "        x = F.relu(self.t_conv1(x)) # [m, 1,1,32] -> [m, 3,3,32]\n",
    "        x = F.relu(self.t_conv2(x)) # [m, 3,3,32] -> [m, 7,7,16]\n",
    "        x = F.relu(self.t_conv3(x)) # [m, 7,7,16] -> \n",
    "        x = F.relu(self.t_conv4(x))\n",
    "        return x                    #[m, 1, 28, 28]\n",
    "    \n",
    "    def forward(self, x):\n",
    "        latent_vector    = self.encoder(x)\n",
    "        predicted_output = self.decoder(latent_vector)\n",
    "        return predicted_output\n",
    "        "
   ]
  },
  {
   "cell_type": "code",
   "execution_count": 11,
   "id": "d31c6e5c",
   "metadata": {},
   "outputs": [],
   "source": [
    "model = AutoEncoder()"
   ]
  },
  {
   "cell_type": "code",
   "execution_count": 12,
   "id": "0a199465",
   "metadata": {},
   "outputs": [
    {
     "data": {
      "text/plain": [
       "torch.Size([5, 10])"
      ]
     },
     "execution_count": 12,
     "metadata": {},
     "output_type": "execute_result"
    }
   ],
   "source": [
    "r = torch.randn(5, 1, 28, 28)\n",
    "rout = model.encoder(r)\n",
    "rout.shape"
   ]
  },
  {
   "cell_type": "code",
   "execution_count": 13,
   "id": "fd87b45c",
   "metadata": {},
   "outputs": [
    {
     "data": {
      "text/plain": [
       "torch.Size([5, 1, 28, 28])"
      ]
     },
     "execution_count": 13,
     "metadata": {},
     "output_type": "execute_result"
    }
   ],
   "source": [
    "model.decoder(rout).shape"
   ]
  },
  {
   "cell_type": "code",
   "execution_count": 14,
   "id": "57d5f13c",
   "metadata": {},
   "outputs": [
    {
     "data": {
      "text/plain": [
       "torch.Size([5, 1, 28, 28])"
      ]
     },
     "execution_count": 14,
     "metadata": {},
     "output_type": "execute_result"
    }
   ],
   "source": [
    "model.forward(r).shape"
   ]
  },
  {
   "cell_type": "code",
   "execution_count": 15,
   "id": "fcce8f82",
   "metadata": {},
   "outputs": [],
   "source": [
    "img_tr_tensor = torch.tensor(img_tr)/255.0 #converting from 0-255 to 0.0-1.0\n",
    "y_tr_tensor   = torch.tensor(y_tr)\n",
    "img_te_tensor = torch.tensor(img_te)/255.0 #converting from 0-255 to 0.0-1.0\n",
    "y_te_tensor   = torch.tensor(y_te)\n",
    "\n",
    "train_dataset = torch.utils.data.TensorDataset(img_tr_tensor, y_tr_tensor)\n",
    "test_dataset  = torch.utils.data.TensorDataset(img_te_tensor, y_te_tensor)\n",
    "\n",
    "train_loader = torch.utils.data.DataLoader(train_dataset, batch_size=32, num_workers=0)\n",
    "test_loader  = torch.utils.data.DataLoader(test_dataset, batch_size=10, num_workers=0)"
   ]
  },
  {
   "cell_type": "code",
   "execution_count": 16,
   "id": "5af3011f",
   "metadata": {},
   "outputs": [],
   "source": [
    "loss_fxn  = nn.MSELoss(reduction='mean')\n",
    "optimizer = torch.optim.Adam(model.parameters(), lr=0.001) \n",
    "save_dir  = \"./checkpoints/\"\n",
    "if not os.path.exists(save_dir):\n",
    "    os.makedirs(save_dir)\n",
    "writer    = SummaryWriter('runs/exp_1')\n",
    "te_writer = SummaryWriter('runs/test_1')"
   ]
  },
  {
   "cell_type": "code",
   "execution_count": 23,
   "id": "002aad0a",
   "metadata": {},
   "outputs": [
    {
     "name": "stdout",
     "output_type": "stream",
     "text": [
      "loaded global ep: 19\n",
      "Epoch: 0 \t Training Loss: 0.7504143993059794\n",
      "Epoch: 1 \t Training Loss: 0.7475525395234426\n",
      "Epoch: 2 \t Training Loss: 0.7450312333424886\n",
      "Epoch: 3 \t Training Loss: 0.7425422732512156\n",
      "Saving Global epoch: 23\n",
      "Test Loss: 0.717247724533081\n",
      "Epoch: 4 \t Training Loss: 0.7402100306828817\n",
      "Epoch: 5 \t Training Loss: 0.7378177544911703\n",
      "Epoch: 6 \t Training Loss: 0.7358303506692251\n",
      "Epoch: 7 \t Training Loss: 0.7337023485660553\n",
      "Epoch: 8 \t Training Loss: 0.7316376574675242\n",
      "Saving Global epoch: 28\n",
      "Test Loss: 0.7041305303573608\n",
      "Epoch: 9 \t Training Loss: 0.7299226575056712\n",
      "Epoch: 10 \t Training Loss: 0.7282608898162842\n",
      "Epoch: 11 \t Training Loss: 0.7263808794657389\n",
      "Epoch: 12 \t Training Loss: 0.7250207474549611\n",
      "Epoch: 13 \t Training Loss: 0.723465112288793\n",
      "Saving Global epoch: 33\n",
      "Test Loss: 0.6968225240707397\n",
      "Epoch: 14 \t Training Loss: 0.7220414662043254\n",
      "Epoch: 15 \t Training Loss: 0.7205466835021973\n",
      "Epoch: 16 \t Training Loss: 0.7188522678216298\n",
      "Epoch: 17 \t Training Loss: 0.7151652158419292\n",
      "Epoch: 18 \t Training Loss: 0.695353787167867\n",
      "Saving Global epoch: 38\n",
      "Test Loss: 0.6631792783737183\n",
      "Epoch: 19 \t Training Loss: 0.680128534936905\n",
      "Epoch: 20 \t Training Loss: 0.6722564334233602\n",
      "Epoch: 21 \t Training Loss: 0.6666800422986349\n",
      "Epoch: 22 \t Training Loss: 0.6623688090642293\n",
      "Epoch: 23 \t Training Loss: 0.6582967108726502\n",
      "Saving Global epoch: 43\n",
      "Test Loss: 0.642526388168335\n",
      "Epoch: 24 \t Training Loss: 0.6549217264811198\n",
      "Epoch: 25 \t Training Loss: 0.6520454439640045\n",
      "Epoch: 26 \t Training Loss: 0.6492013020992279\n",
      "Epoch: 27 \t Training Loss: 0.6467084756215413\n",
      "Epoch: 28 \t Training Loss: 0.644460357316335\n",
      "Saving Global epoch: 48\n",
      "Test Loss: 0.6330212354660034\n",
      "Epoch: 29 \t Training Loss: 0.6421677918752035\n",
      "Epoch: 30 \t Training Loss: 0.6402037708441416\n",
      "Epoch: 31 \t Training Loss: 0.6383513803958892\n",
      "Epoch: 32 \t Training Loss: 0.6365925570329031\n",
      "Epoch: 33 \t Training Loss: 0.6349480672041575\n",
      "Saving Global epoch: 53\n",
      "Test Loss: 0.615134596824646\n",
      "Epoch: 34 \t Training Loss: 0.6335876863161722\n",
      "Epoch: 35 \t Training Loss: 0.6320922750314076\n",
      "Epoch: 36 \t Training Loss: 0.6307507322311401\n",
      "Epoch: 37 \t Training Loss: 0.6295053073565166\n",
      "Epoch: 38 \t Training Loss: 0.6282176522254944\n",
      "Saving Global epoch: 58\n",
      "Test Loss: 0.6128021478652954\n",
      "Epoch: 39 \t Training Loss: 0.6270146723906199\n",
      "Epoch: 40 \t Training Loss: 0.6258206798235575\n",
      "Epoch: 41 \t Training Loss: 0.6245701153755188\n",
      "Epoch: 42 \t Training Loss: 0.623540673605601\n",
      "Epoch: 43 \t Training Loss: 0.6225483198642731\n",
      "Saving Global epoch: 63\n",
      "Test Loss: 0.6039672493934631\n",
      "Epoch: 44 \t Training Loss: 0.6217707769234975\n",
      "Epoch: 45 \t Training Loss: 0.6208459484577179\n",
      "Epoch: 46 \t Training Loss: 0.619901744333903\n",
      "Epoch: 47 \t Training Loss: 0.6190772379557292\n",
      "Epoch: 48 \t Training Loss: 0.618266574494044\n",
      "Saving Global epoch: 68\n",
      "Test Loss: 0.5892946124076843\n",
      "Epoch: 49 \t Training Loss: 0.61733487962087\n"
     ]
    }
   ],
   "source": [
    "try:\n",
    "    load_ckpt_num = 19\n",
    "    checkpoint = torch.load(save_dir+\"/ep_{}.ckpt\".format(load_ckpt_num))\n",
    "    model.load_state_dict(checkpoint['model_state_dict'])\n",
    "    optimizer.load_state_dict(checkpoint['optimizer_state_dict'])\n",
    "    global_epoch = checkpoint['global_epoch']\n",
    "    print(\"loaded global ep: {}\".format(global_epoch))\n",
    "except Exception as e:\n",
    "    print(\"Loading checkpoint failed! - {}\".format(e))\n",
    "    global_epoch = 0\n",
    "    \n",
    "n_epochs = 50\n",
    "\n",
    "for epoch in range(n_epochs):\n",
    "    train_loss = 0.0\n",
    "    model.train()\n",
    "    for data in train_loader:\n",
    "        images, _ = data\n",
    "        outputs = model.forward(images)\n",
    "        loss = loss_fxn(outputs, images)\n",
    "        \n",
    "        optimizer.zero_grad()\n",
    "        loss.backward()\n",
    "        optimizer.step()\n",
    "\n",
    "        train_loss+=(loss.item()*images.size(0))\n",
    "           \n",
    "    if(epoch%5==4):\n",
    "        print(\"Saving Global epoch: {}\".format(global_epoch))\n",
    "        \n",
    "        torch.save({\n",
    "            'global_epoch':global_epoch,\n",
    "            'model_state_dict':model.state_dict(),\n",
    "            'optimizer_state_dict':optimizer.state_dict()\n",
    "        }, save_dir+\"/ep_{}.ckpt\".format(global_epoch))\n",
    "        \n",
    "        writer.add_scalar('train_loss', train_loss/len(train_loader), global_epoch)\n",
    "        \n",
    "        model.eval()\n",
    "        with torch.no_grad():\n",
    "            te_loss = 0.0\n",
    "            for te_data in test_loader:\n",
    "                te_imgs, _ = data\n",
    "                te_out = model.forward(te_imgs)\n",
    "                loss_ = loss_fxn(te_out, te_imgs)\n",
    "                te_loss += loss_.item() * te_imgs.size(0)\n",
    "            te_loss = te_loss/len(test_loader)\n",
    "            te_writer.add_scalar('test_loss', te_loss, global_epoch)\n",
    "\n",
    "            print(\"Test Loss: {}\".format(te_loss))\n",
    "    \n",
    "    \n",
    "    global_epoch+=1 \n",
    "    \n",
    "    train_loss = train_loss/len(train_loader)\n",
    "    print(\"Epoch: {} \\t Training Loss: {}\".format(epoch, train_loss))"
   ]
  },
  {
   "cell_type": "code",
   "execution_count": 18,
   "id": "20d1056e",
   "metadata": {},
   "outputs": [],
   "source": [
    "writer.add_graph(model, images)\n",
    "# writer.close()"
   ]
  },
  {
   "cell_type": "code",
   "execution_count": 24,
   "id": "b59a0b65",
   "metadata": {},
   "outputs": [
    {
     "name": "stdout",
     "output_type": "stream",
     "text": [
      "(28, 28, 1)\n"
     ]
    },
    {
     "data": {
      "image/png": "[encoded data removed]",
      "text/plain": [
       "<Figure size 432x288 with 1 Axes>"
      ]
     },
     "metadata": {
      "needs_background": "light"
     },
     "output_type": "display_data"
    }
   ],
   "source": [
    "y_pred = model.forward(img_te_tensor[18:19])[0]\n",
    "y_pred.shape\n",
    "temp = y_pred.permute(1,2,0).detach().numpy()\n",
    "print(temp.shape)\n",
    "# print(y_pred)\n",
    "# type(y_pred)\n",
    "plt.imshow(temp)\n",
    "plt.show()"
   ]
  },
  {
   "cell_type": "code",
   "execution_count": 25,
   "id": "18cf5cf8",
   "metadata": {},
   "outputs": [],
   "source": [
    "def display_img(tensor):\n",
    "    m = tensor.shape[0]\n",
    "    for i in range(m):\n",
    "        temp = tensor[i].permute(1,2,0).detach().numpy()\n",
    "        plt.imshow(temp)\n",
    "        plt.show()"
   ]
  },
  {
   "cell_type": "code",
   "execution_count": 26,
   "id": "fc202089",
   "metadata": {},
   "outputs": [
    {
     "name": "stdout",
     "output_type": "stream",
     "text": [
      "torch.Size([2, 10])\n",
      "torch.Size([2, 1, 28, 28])\n",
      "2\n"
     ]
    },
    {
     "data": {
      "image/png": "[encoded data removed]",
      "text/plain": [
       "<Figure size 432x288 with 1 Axes>"
      ]
     },
     "metadata": {
      "needs_background": "light"
     },
     "output_type": "display_data"
    },
    {
     "data": {
      "image/png": "[encoded data removed]",
      "text/plain": [
       "<Figure size 432x288 with 1 Axes>"
      ]
     },
     "metadata": {
      "needs_background": "light"
     },
     "output_type": "display_data"
    }
   ],
   "source": [
    "# Generating a random latent vector.\n",
    "# Generated image in random!!\n",
    "lat = torch.randn([2, 10])\n",
    "print(lat.shape)\n",
    "out = model.decoder(lat)\n",
    "print(out.shape)\n",
    "print(out.shape[0])\n",
    "display_img(out)"
   ]
  },
  {
   "cell_type": "code",
   "execution_count": 33,
   "id": "88cef95b",
   "metadata": {},
   "outputs": [
    {
     "data": {
      "image/png": "[encoded data removed]",
      "text/plain": [
       "<Figure size 432x288 with 1 Axes>"
      ]
     },
     "metadata": {
      "needs_background": "light"
     },
     "output_type": "display_data"
    },
    {
     "data": {
      "image/png": "[encoded data removed]",
      "text/plain": [
       "<Figure size 432x288 with 1 Axes>"
      ]
     },
     "metadata": {
      "needs_background": "light"
     },
     "output_type": "display_data"
    },
    {
     "data": {
      "image/png": "[encoded data removed]",
      "text/plain": [
       "<Figure size 432x288 with 1 Axes>"
      ]
     },
     "metadata": {
      "needs_background": "light"
     },
     "output_type": "display_data"
    }
   ],
   "source": [
    "l1 = model.encoder(img_te_tensor[171:172])\n",
    "l2 = model.encoder(img_te_tensor[1325:1326])\n",
    "l_avg = (l1+l2)/2\n",
    "\n",
    "o1 = model.decoder(l1)\n",
    "o2 = model.decoder(l2)\n",
    "o3 = model.decoder(l_avg)\n",
    "\n",
    "display_img(o1)\n",
    "display_img(o2)\n",
    "display_img(o3)"
   ]
  },
  {
   "cell_type": "code",
   "execution_count": null,
   "id": "d003db2e",
   "metadata": {},
   "outputs": [],
   "source": []
  },
  {
   "cell_type": "code",
   "execution_count": null,
   "id": "81ea58d1",
   "metadata": {},
   "outputs": [],
   "source": []
  },
  {
   "cell_type": "code",
   "execution_count": null,
   "id": "23f051ec",
   "metadata": {},
   "outputs": [],
   "source": []
  }
 ],
 "metadata": {
  "kernelspec": {
   "display_name": "Python 3",
   "language": "python",
   "name": "python3"
  },
  "language_info": {
   "codemirror_mode": {
    "name": "ipython",
    "version": 3
   },
   "file_extension": ".py",
   "mimetype": "text/x-python",
   "name": "python",
   "nbconvert_exporter": "python",
   "pygments_lexer": "ipython3",
   "version": "3.8.2"
  }
 },
 "nbformat": 4,
 "nbformat_minor": 5
}
