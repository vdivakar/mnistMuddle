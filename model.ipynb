{
 "cells": [
  {
   "cell_type": "code",
   "execution_count": 1,
   "id": "49cbcb88",
   "metadata": {},
   "outputs": [],
   "source": [
    "import torch\n",
    "import torchvision\n",
    "import matplotlib.pyplot as plt\n",
    "from mnist import MNIST\n",
    "from sklearn import manifold\n",
    "import numpy as np\n",
    "from time import time\n",
    "from matplotlib import offsetbox"
   ]
  },
  {
   "cell_type": "code",
   "execution_count": 2,
   "id": "9ae07651",
   "metadata": {},
   "outputs": [],
   "source": [
    "mndata = MNIST('Data/mnist')\n",
    "train_images, train_labels = mndata.load_training()\n",
    "test_images, test_labels = mndata.load_testing()"
   ]
  },
  {
   "cell_type": "code",
   "execution_count": 3,
   "id": "51b1c3c0",
   "metadata": {},
   "outputs": [],
   "source": [
    "X_tr = np.array(train_images)\n",
    "y_tr = np.array(train_labels)\n",
    "X_te = np.array(test_images)\n",
    "y_te = np.array(test_labels)"
   ]
  },
  {
   "cell_type": "code",
   "execution_count": 4,
   "id": "9073f950",
   "metadata": {},
   "outputs": [],
   "source": [
    "img_tr = X_tr.reshape([-1, 1,28,28])\n",
    "img_te = X_te.reshape([-1, 1,28,28])"
   ]
  },
  {
   "cell_type": "code",
   "execution_count": 5,
   "id": "9f26d95e",
   "metadata": {},
   "outputs": [
    {
     "data": {
      "text/plain": [
       "(60000, 784)"
      ]
     },
     "execution_count": 5,
     "metadata": {},
     "output_type": "execute_result"
    }
   ],
   "source": [
    "X_tr.shape"
   ]
  },
  {
   "cell_type": "code",
   "execution_count": 6,
   "id": "f5a0bad0",
   "metadata": {},
   "outputs": [
    {
     "data": {
      "text/plain": [
       "(60000, 1, 28, 28)"
      ]
     },
     "execution_count": 6,
     "metadata": {},
     "output_type": "execute_result"
    }
   ],
   "source": [
    "# X_tr = X_tr.reshape([-1, 28, 28])\n",
    "img_tr.shape"
   ]
  },
  {
   "cell_type": "code",
   "execution_count": 7,
   "id": "2919cb27",
   "metadata": {},
   "outputs": [],
   "source": [
    "# Scale and visualize the embedding vectors\n",
    "def plot_embedding(X, y, img, title=None):\n",
    "    x_min, x_max = np.min(X, 0), np.max(X, 0)\n",
    "    X = (X - x_min) / (x_max - x_min)\n",
    "\n",
    "    plt.figure()\n",
    "    ax = plt.subplot(111)\n",
    "    for i in range(X.shape[0]):\n",
    "        plt.text(X[i, 0], X[i, 1], str(y[i]),\n",
    "                 color=plt.cm.Set1(y[i] / 10.),\n",
    "                 fontdict={'weight': 'bold', 'size': 9})\n",
    "\n",
    "    if hasattr(offsetbox, 'AnnotationBbox'):\n",
    "        # only print thumbnails with matplotlib > 1.0\n",
    "        shown_images = np.array([[1., 1.]])  # just something big\n",
    "        for i in range(X.shape[0]):\n",
    "            dist = np.sum((X[i] - shown_images) ** 2, 1)\n",
    "            if np.min(dist) < 4e-2:\n",
    "                # don't show points that are too close\n",
    "                continue\n",
    "            shown_images = np.r_[shown_images, [X[i]]]\n",
    "            imagebox = offsetbox.AnnotationBbox(\n",
    "                offsetbox.OffsetImage(img[i], cmap=plt.cm.gray_r),\n",
    "                X[i])\n",
    "            ax.add_artist(imagebox)\n",
    "    plt.xticks([]), plt.yticks([])\n",
    "    if title is not None:\n",
    "        plt.title(title)"
   ]
  },
  {
   "cell_type": "code",
   "execution_count": 8,
   "id": "89d482c5",
   "metadata": {},
   "outputs": [],
   "source": [
    "# t-SNE embedding of the digits dataset\n",
    "# print(\"Computing t-SNE embedding\")\n",
    "# tsne = manifold.TSNE(n_components=2, init='pca', random_state=0)\n",
    "\n",
    "# s = time()\n",
    "# X_tsne = tsne.fit_transform(X_te[:1000])\n",
    "# print(time() - s)\n",
    "\n",
    "# plot_embedding(X_tsne, y_te[:1000], img_te.reshape([-1, 28,28,1]),\n",
    "#                \"t-SNE embedding of the digits\")"
   ]
  },
  {
   "cell_type": "code",
   "execution_count": 9,
   "id": "b12a2b95",
   "metadata": {},
   "outputs": [],
   "source": [
    "import torch.nn as nn\n",
    "import torch.nn.functional as F"
   ]
  },
  {
   "cell_type": "code",
   "execution_count": 10,
   "id": "08f6ab0c",
   "metadata": {},
   "outputs": [],
   "source": [
    "class AutoEncoder(nn.Module):\n",
    "    def __init__(self):\n",
    "        super(AutoEncoder, self).__init__()\n",
    "        #Encoder\n",
    "        self.conv1 = nn.Conv2d( 1,  8, 3, stride=2,padding=1) #28x28x1 -> 14x14x8\n",
    "        self.conv2 = nn.Conv2d( 8, 16, 3, stride=2,padding=1) #14x14x8 -> 7x7x16\n",
    "        self.conv3 = nn.Conv2d(16, 32, 3, stride=2) #7x7x16 -> 3x3x32\n",
    "        self.conv4 = nn.Conv2d(32, 32, 3, stride=1) #3x3x32 -> 1x1x32\n",
    "        self.fc1   = nn.Linear(32, 10)\n",
    "        \n",
    "        #Decoder\n",
    "        self.t_fc1   = nn.Linear(10, 32) # [32]\n",
    "        self.t_conv1 = nn.ConvTranspose2d(32, 32, 3, stride=2)\n",
    "        self.t_conv2 = nn.ConvTranspose2d(32, 16, 3, stride=2)\n",
    "        self.t_conv3 = nn.ConvTranspose2d(16,  8, 3, stride=2, padding=1)\n",
    "        self.t_conv4 = nn.ConvTranspose2d(8,   1, 3, stride=2, output_padding=1)\n",
    "    \n",
    "    def encoder(self, x):\n",
    "        x = F.relu(self.conv1(x))\n",
    "        x = F.relu(self.conv2(x))        \n",
    "        x = F.relu(self.conv3(x))        \n",
    "        x = F.relu(self.conv4(x))\n",
    "        x = torch.flatten(x, start_dim=1)\n",
    "        x = F.relu(self.fc1(x))\n",
    "        return x\n",
    "    \n",
    "    def decoder(self, x):\n",
    "        x = F.relu(self.t_fc1(x)) # 10 -> 32\n",
    "        x = x.reshape([-1,32,1,1])\n",
    "        x = F.relu(self.t_conv1(x)) # [m, 1,1,32] -> [m, 3,3,32]\n",
    "        x = F.relu(self.t_conv2(x)) # [m, 3,3,32] -> [m, 7,7,16]\n",
    "        x = F.relu(self.t_conv3(x)) # [m, 7,7,16] -> \n",
    "        x = F.relu(self.t_conv4(x))\n",
    "        return x                    #[m, 1, 28, 28]\n",
    "    \n",
    "    def forward(self, x):\n",
    "        latent_vector    = self.encoder(x)\n",
    "        predicted_output = self.decoder(latent_vector)\n",
    "        return predicted_output\n",
    "        "
   ]
  },
  {
   "cell_type": "code",
   "execution_count": 11,
   "id": "d31c6e5c",
   "metadata": {},
   "outputs": [],
   "source": [
    "model = AutoEncoder()"
   ]
  },
  {
   "cell_type": "code",
   "execution_count": 12,
   "id": "0a199465",
   "metadata": {},
   "outputs": [
    {
     "data": {
      "text/plain": [
       "torch.Size([5, 10])"
      ]
     },
     "execution_count": 12,
     "metadata": {},
     "output_type": "execute_result"
    }
   ],
   "source": [
    "r = torch.randn(5, 1, 28, 28)\n",
    "rout = model.encoder(r)\n",
    "rout.shape"
   ]
  },
  {
   "cell_type": "code",
   "execution_count": 13,
   "id": "fd87b45c",
   "metadata": {},
   "outputs": [
    {
     "data": {
      "text/plain": [
       "torch.Size([5, 1, 28, 28])"
      ]
     },
     "execution_count": 13,
     "metadata": {},
     "output_type": "execute_result"
    }
   ],
   "source": [
    "model.decoder(rout).shape"
   ]
  },
  {
   "cell_type": "code",
   "execution_count": 14,
   "id": "57d5f13c",
   "metadata": {},
   "outputs": [
    {
     "data": {
      "text/plain": [
       "torch.Size([5, 1, 28, 28])"
      ]
     },
     "execution_count": 14,
     "metadata": {},
     "output_type": "execute_result"
    }
   ],
   "source": [
    "model.forward(r).shape"
   ]
  },
  {
   "cell_type": "code",
   "execution_count": 15,
   "id": "5e98a286",
   "metadata": {},
   "outputs": [
    {
     "data": {
      "text/plain": [
       "torch.Size([10000, 1, 28, 28])"
      ]
     },
     "execution_count": 15,
     "metadata": {},
     "output_type": "execute_result"
    }
   ],
   "source": [
    "model.forward(torch.tensor(img_te, dtype=torch.float)).shape"
   ]
  },
  {
   "cell_type": "code",
   "execution_count": 16,
   "id": "3373972e",
   "metadata": {},
   "outputs": [],
   "source": [
    "# temp = torch.tensor(img_te, dtype=torch.float)\n",
    "# temp[0]/255"
   ]
  },
  {
   "cell_type": "code",
   "execution_count": 17,
   "id": "c2dde5d2",
   "metadata": {},
   "outputs": [
    {
     "data": {
      "text/plain": [
       "(100, 1, 28, 28)"
      ]
     },
     "execution_count": 17,
     "metadata": {},
     "output_type": "execute_result"
    }
   ],
   "source": [
    "img_tr[:100].shape"
   ]
  },
  {
   "cell_type": "code",
   "execution_count": 18,
   "id": "fcce8f82",
   "metadata": {},
   "outputs": [],
   "source": [
    "img_tr_tensor = torch.tensor(img_tr[:1000])/255.0 #converting from 0-255 to 0.0-1.0\n",
    "y_tr_tensor   = torch.tensor(y_tr[:1000])\n",
    "img_te_tensor = torch.tensor(img_te)/255.0 #converting from 0-255 to 0.0-1.0\n",
    "y_te_tensor   = torch.tensor(y_te)\n",
    "\n",
    "train_dataset = torch.utils.data.TensorDataset(img_tr_tensor, y_tr_tensor)\n",
    "test_dataset  = torch.utils.data.TensorDataset(img_te_tensor, y_te_tensor)\n",
    "\n",
    "train_loader = torch.utils.data.DataLoader(train_dataset, batch_size=32, num_workers=0)\n",
    "test_loader  = torch.utils.data.DataLoader(test_dataset, batch_size=1, num_workers=0)"
   ]
  },
  {
   "cell_type": "code",
   "execution_count": 19,
   "id": "5af3011f",
   "metadata": {},
   "outputs": [],
   "source": [
    "loss_fxn  = nn.MSELoss(reduction='mean')\n",
    "optimizer = torch.optim.Adam(model.parameters(), lr=0.01) \n",
    "save_dir  = \"./checkpoints/\"\n",
    "loss_vals = []"
   ]
  },
  {
   "cell_type": "code",
   "execution_count": 30,
   "id": "002aad0a",
   "metadata": {},
   "outputs": [
    {
     "name": "stdout",
     "output_type": "stream",
     "text": [
      "loaded global ep: 70\n",
      "Epoch: 0 \t Training Loss: 0.8912959974259138\n",
      "Epoch: 1 \t Training Loss: 0.89043078571558\n",
      "Epoch: 2 \t Training Loss: 0.8911063275299966\n",
      "Epoch: 3 \t Training Loss: 0.8881988185457885\n",
      "Epoch: 4 \t Training Loss: 0.8734279163181782\n",
      "Epoch: 5 \t Training Loss: 0.8718152893707156\n",
      "Epoch: 6 \t Training Loss: 0.8758037034422159\n",
      "Epoch: 7 \t Training Loss: 0.8708920259959996\n",
      "Epoch: 8 \t Training Loss: 0.8698872635141015\n",
      "Epoch: 9 \t Training Loss: 0.8892874466255307\n",
      "Saving Global epoch: 80\n",
      "Epoch: 10 \t Training Loss: 0.8869771715253592\n",
      "Epoch: 11 \t Training Loss: 0.8843202539719641\n",
      "Epoch: 12 \t Training Loss: 0.891303978394717\n",
      "Epoch: 13 \t Training Loss: 0.9004108579829335\n",
      "Epoch: 14 \t Training Loss: 0.9241020288318396\n",
      "Epoch: 15 \t Training Loss: 0.937748787458986\n",
      "Epoch: 16 \t Training Loss: 0.9154992722906172\n",
      "Epoch: 17 \t Training Loss: 0.9159780470654368\n",
      "Epoch: 18 \t Training Loss: 0.9195834747515619\n",
      "Epoch: 19 \t Training Loss: 0.8879921054467559\n",
      "Saving Global epoch: 90\n",
      "Epoch: 20 \t Training Loss: 0.880448842421174\n",
      "Epoch: 21 \t Training Loss: 0.8774378942325711\n",
      "Epoch: 22 \t Training Loss: 0.8703842330724001\n",
      "Epoch: 23 \t Training Loss: 0.8600463480688632\n",
      "Epoch: 24 \t Training Loss: 0.8637403440661728\n",
      "Epoch: 25 \t Training Loss: 0.8744040643796325\n",
      "Epoch: 26 \t Training Loss: 0.9016944533213973\n",
      "Epoch: 27 \t Training Loss: 0.8742214771918952\n",
      "Epoch: 28 \t Training Loss: 0.8686613077297807\n",
      "Epoch: 29 \t Training Loss: 0.872952913865447\n",
      "Saving Global epoch: 100\n",
      "Epoch: 30 \t Training Loss: 0.8850408284924924\n"
     ]
    }
   ],
   "source": [
    "try:\n",
    "    load_ckpt_num = 70\n",
    "    checkpoint = torch.load(save_dir+\"/ep_{}.ckpt\".format(load_ckpt_num))\n",
    "    model.load_state_dict(checkpoint['model_state_dict'])\n",
    "    optimizer.load_state_dict(checkpoint['optimizer_state_dict'])\n",
    "    global_epoch = checkpoint['global_epoch']\n",
    "    print(\"loaded global ep: {}\".format(global_epoch))\n",
    "except Exception as e:\n",
    "    print(\"Loading checkpoint failed! - {}\".format(e))\n",
    "    global_epoch = 0\n",
    "    \n",
    "n_epochs = 31\n",
    "\n",
    "for epoch in range(n_epochs):\n",
    "    train_loss = 0.0\n",
    "    for data in train_loader:\n",
    "        images, _ = data\n",
    "        outputs = model.forward(images)\n",
    "        loss = loss_fxn(outputs, images)\n",
    "        \n",
    "        optimizer.zero_grad()\n",
    "        loss.backward()\n",
    "        optimizer.step()\n",
    "\n",
    "        train_loss+=(loss.item()*images.size(0))\n",
    "           \n",
    "    if(epoch%10==0 and epoch>0):\n",
    "        print(\"Saving Global epoch: {}\".format(global_epoch))\n",
    "        torch.save({\n",
    "            'global_epoch':global_epoch,\n",
    "            'model_state_dict':model.state_dict(),\n",
    "            'optimizer_state_dict':optimizer.state_dict()\n",
    "        }, save_dir+\"/ep_{}.ckpt\".format(global_epoch))\n",
    "        loss_vals.append(train_loss/len(train_loader))\n",
    "    global_epoch+=1 \n",
    "    \n",
    "    train_loss = train_loss/len(train_loader)\n",
    "    print(\"Epoch: {} \\t Training Loss: {}\".format(epoch, train_loss))"
   ]
  },
  {
   "cell_type": "code",
   "execution_count": 31,
   "id": "75dce89b",
   "metadata": {},
   "outputs": [
    {
     "data": {
      "text/plain": [
       "[1.3094702493399382,\n",
       " 1.0801280518062413,\n",
       " 1.040359332691878,\n",
       " 0.9608870763331652,\n",
       " 0.9395957114174962,\n",
       " 0.921688636764884,\n",
       " 0.9114645570516586,\n",
       " 0.8869771715253592,\n",
       " 0.880448842421174,\n",
       " 0.8850408284924924]"
      ]
     },
     "execution_count": 31,
     "metadata": {},
     "output_type": "execute_result"
    },
    {
     "data": {
      "image/png": "[encoded data removed]",
      "text/plain": [
       "<Figure size 432x288 with 1 Axes>"
      ]
     },
     "metadata": {
      "needs_background": "light"
     },
     "output_type": "display_data"
    }
   ],
   "source": [
    "plt.plot(loss_vals)\n",
    "loss_vals\n"
   ]
  },
  {
   "cell_type": "code",
   "execution_count": 22,
   "id": "b59a0b65",
   "metadata": {},
   "outputs": [
    {
     "name": "stdout",
     "output_type": "stream",
     "text": [
      "(28, 28, 1)\n"
     ]
    },
    {
     "data": {
      "image/png": "[encoded data removed]",
      "text/plain": [
       "<Figure size 432x288 with 1 Axes>"
      ]
     },
     "metadata": {
      "needs_background": "light"
     },
     "output_type": "display_data"
    }
   ],
   "source": [
    "y_pred = model.forward(img_te_tensor[18:19])[0]\n",
    "y_pred.shape\n",
    "temp = y_pred.permute(1,2,0).detach().numpy()\n",
    "print(temp.shape)\n",
    "# print(y_pred)\n",
    "# type(y_pred)\n",
    "plt.imshow(temp)\n",
    "plt.show()"
   ]
  },
  {
   "cell_type": "code",
   "execution_count": 23,
   "id": "18cf5cf8",
   "metadata": {},
   "outputs": [],
   "source": [
    "def display_img(tensor):\n",
    "    m = tensor.shape[0]\n",
    "    for i in range(m):\n",
    "        temp = tensor[i].permute(1,2,0).detach().numpy()\n",
    "        plt.imshow(temp)\n",
    "        plt.show()"
   ]
  },
  {
   "cell_type": "code",
   "execution_count": 24,
   "id": "fc202089",
   "metadata": {},
   "outputs": [
    {
     "name": "stdout",
     "output_type": "stream",
     "text": [
      "torch.Size([2, 10])\n",
      "torch.Size([2, 1, 28, 28])\n",
      "2\n"
     ]
    },
    {
     "data": {
      "image/png": "[encoded data removed]",
      "text/plain": [
       "<Figure size 432x288 with 1 Axes>"
      ]
     },
     "metadata": {
      "needs_background": "light"
     },
     "output_type": "display_data"
    },
    {
     "data": {
      "image/png": "[encoded data removed]",
      "text/plain": [
       "<Figure size 432x288 with 1 Axes>"
      ]
     },
     "metadata": {
      "needs_background": "light"
     },
     "output_type": "display_data"
    }
   ],
   "source": [
    "# Generating a random latent vector.\n",
    "# Generated image in random!!\n",
    "lat = torch.randn([2, 10])\n",
    "print(lat.shape)\n",
    "out = model.decoder(lat)\n",
    "print(out.shape)\n",
    "print(out.shape[0])\n",
    "display_img(out)"
   ]
  },
  {
   "cell_type": "code",
   "execution_count": 25,
   "id": "88cef95b",
   "metadata": {},
   "outputs": [
    {
     "data": {
      "image/png": "[encoded data removed]",
      "text/plain": [
       "<Figure size 432x288 with 1 Axes>"
      ]
     },
     "metadata": {
      "needs_background": "light"
     },
     "output_type": "display_data"
    },
    {
     "data": {
      "image/png": "[encoded data removed]",
      "text/plain": [
       "<Figure size 432x288 with 1 Axes>"
      ]
     },
     "metadata": {
      "needs_background": "light"
     },
     "output_type": "display_data"
    },
    {
     "data": {
      "image/png": "[encoded data removed]",
      "text/plain": [
       "<Figure size 432x288 with 1 Axes>"
      ]
     },
     "metadata": {
      "needs_background": "light"
     },
     "output_type": "display_data"
    }
   ],
   "source": [
    "l1 = model.encoder(img_tr_tensor[7:8])\n",
    "l2 = model.encoder(img_tr_tensor[15:16])\n",
    "l_avg = (l1+l2)/2\n",
    "\n",
    "o1 = model.decoder(l1)\n",
    "o2 = model.decoder(l2)\n",
    "o3 = model.decoder(l_avg)\n",
    "\n",
    "display_img(o1)\n",
    "display_img(o2)\n",
    "display_img(o3)"
   ]
  },
  {
   "cell_type": "code",
   "execution_count": null,
   "id": "d003db2e",
   "metadata": {},
   "outputs": [],
   "source": []
  },
  {
   "cell_type": "code",
   "execution_count": null,
   "id": "81ea58d1",
   "metadata": {},
   "outputs": [],
   "source": []
  }
 ],
 "metadata": {
  "kernelspec": {
   "display_name": "Python 3",
   "language": "python",
   "name": "python3"
  },
  "language_info": {
   "codemirror_mode": {
    "name": "ipython",
    "version": 3
   },
   "file_extension": ".py",
   "mimetype": "text/x-python",
   "name": "python",
   "nbconvert_exporter": "python",
   "pygments_lexer": "ipython3",
   "version": "3.8.2"
  }
 },
 "nbformat": 4,
 "nbformat_minor": 5
}
