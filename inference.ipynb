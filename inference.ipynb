{
 "cells": [
  {
   "cell_type": "code",
   "execution_count": 1,
   "id": "983387dd",
   "metadata": {},
   "outputs": [],
   "source": [
    "import torch\n",
    "import torchvision\n",
    "import matplotlib.pyplot as plt\n",
    "from mnist import MNIST\n",
    "from sklearn import manifold\n",
    "import numpy as np\n",
    "import os\n",
    "from matplotlib import offsetbox\n",
    "from torch.utils.tensorboard import SummaryWriter"
   ]
  },
  {
   "cell_type": "code",
   "execution_count": 2,
   "id": "eb41ad87",
   "metadata": {},
   "outputs": [
    {
     "name": "stdout",
     "output_type": "stream",
     "text": [
      "loaded global ep: 4\n"
     ]
    }
   ],
   "source": [
    "## Loading Model ##\n",
    "\n",
    "from model_class import AutoEncoder\n",
    "load_dir  = \"./checkpoints/\"\n",
    "\n",
    "model = AutoEncoder()\n",
    "\n",
    "try:\n",
    "    load_ckpt_num = 4\n",
    "    checkpoint = torch.load(load_dir+\"/ep_{}.ckpt\".format(load_ckpt_num))\n",
    "    model.load_state_dict(checkpoint['model_state_dict'])\n",
    "    global_epoch = checkpoint['global_epoch']\n",
    "    print(\"loaded global ep: {}\".format(global_epoch))\n",
    "except Exception as e:\n",
    "    print(\"Loading checkpoint failed! - {}\".format(e))\n",
    "    global_epoch = 0"
   ]
  },
  {
   "cell_type": "code",
   "execution_count": 3,
   "id": "ea9a81e6",
   "metadata": {},
   "outputs": [
    {
     "name": "stdout",
     "output_type": "stream",
     "text": [
      "X_tr: (60000, 784)\n",
      "y_tr: (60000,)\n",
      "X_te: (10000, 784)\n",
      "y_te: (10000,)\n",
      "X_tr_imgs: (60000, 1, 28, 28)\n",
      "X_te_imgs: (10000, 1, 28, 28)\n"
     ]
    }
   ],
   "source": [
    "## Loading Data\n",
    "\n",
    "mndata = MNIST('Data/mnist')\n",
    "raw_train_images, raw_train_labels = mndata.load_training()\n",
    "raw_test_images, raw_test_labels = mndata.load_testing()\n",
    "\n",
    "X_tr = np.array(raw_train_images)\n",
    "y_tr = np.array(raw_train_labels)\n",
    "X_te = np.array(raw_test_images)\n",
    "y_te = np.array(raw_test_labels)\n",
    "\n",
    "X_tr_imgs = X_tr.reshape([-1, 1,28,28])\n",
    "X_te_imgs = X_te.reshape([-1, 1,28,28])\n",
    "\n",
    "\n",
    "print(\"X_tr: {}\".format(X_tr.shape))\n",
    "print(\"y_tr: {}\".format(y_tr.shape))\n",
    "print(\"X_te: {}\".format(X_te.shape))\n",
    "print(\"y_te: {}\".format(y_te.shape))\n",
    "print(\"X_tr_imgs: {}\".format(X_tr_imgs.shape))\n",
    "print(\"X_te_imgs: {}\".format(X_te_imgs.shape))"
   ]
  },
  {
   "cell_type": "code",
   "execution_count": 44,
   "id": "f6a0a437",
   "metadata": {},
   "outputs": [],
   "source": [
    "def display_img(tensor):\n",
    "    m = tensor.shape[0]\n",
    "    for i in range(m):\n",
    "        temp = tensor[i].permute(1,2,0).detach().numpy()\n",
    "        plt.imshow(temp, cmap='gray')\n",
    "        plt.show()\n"
   ]
  },
  {
   "cell_type": "code",
   "execution_count": 6,
   "id": "8ec1759d",
   "metadata": {},
   "outputs": [],
   "source": [
    "# out = model.forward(torch.tensor(X_te_imgs)/255)\n",
    "# out.shape\n",
    "\n",
    "# writer    = SummaryWriter('runs/embd')\n",
    "# temp = out.reshape([-1,1*28*28])\n",
    "# l = torch.tensor(X_te_imgs)\n",
    "# print(temp.shape)\n",
    "# print(list(y_te[:5]))\n",
    "# print(X_te_imgs[:5].shape)\n",
    "# writer.add_embedding(temp,\n",
    "#                       metadata=list(y_te),\n",
    "#                       label_img=l\n",
    "#                      )"
   ]
  },
  {
   "cell_type": "code",
   "execution_count": 7,
   "id": "15fe99d2",
   "metadata": {},
   "outputs": [],
   "source": [
    "# l_out = model.encoder(torch.tensor(X_te_imgs)/255)\n",
    "# print(l_out.shape)\n",
    "\n",
    "# writer    = SummaryWriter('runs/embd_latent')\n",
    "\n",
    "# l = torch.tensor(X_te_imgs)\n",
    "# writer.add_embedding(l_out,\n",
    "#                       metadata=list(y_te),\n",
    "#                       label_img=l\n",
    "#                      )"
   ]
  },
  {
   "cell_type": "code",
   "execution_count": 8,
   "id": "cc5fefa0",
   "metadata": {},
   "outputs": [
    {
     "data": {
      "text/plain": [
       "1032"
      ]
     },
     "execution_count": 8,
     "metadata": {},
     "output_type": "execute_result"
    }
   ],
   "source": [
    "rule = y_te==2\n",
    "x_rule = X_te_imgs[rule]\n",
    "len(x_rule)"
   ]
  },
  {
   "cell_type": "code",
   "execution_count": 45,
   "id": "06064bcd",
   "metadata": {},
   "outputs": [
    {
     "data": {
      "image/png": "[encoded data removed]",
      "text/plain": [
       "<Figure size 432x288 with 1 Axes>"
      ]
     },
     "metadata": {
      "needs_background": "light"
     },
     "output_type": "display_data"
    },
    {
     "data": {
      "image/png": "[encoded data removed]",
      "text/plain": [
       "<Figure size 432x288 with 1 Axes>"
      ]
     },
     "metadata": {
      "needs_background": "light"
     },
     "output_type": "display_data"
    },
    {
     "data": {
      "image/png": "[encoded data removed]",
      "text/plain": [
       "<Figure size 432x288 with 1 Axes>"
      ]
     },
     "metadata": {
      "needs_background": "light"
     },
     "output_type": "display_data"
    }
   ],
   "source": [
    "## Taking a single image & averaging the latent outputs\n",
    "rule_1 = y_te==7\n",
    "rule_2 = y_te==9\n",
    "\n",
    "a = torch.tensor(X_te_imgs[rule_1][:1])/255\n",
    "b = torch.tensor(X_te_imgs[rule_2][:1])/255\n",
    "\n",
    "\n",
    "with torch.no_grad():\n",
    "    l1 = model.encoder(a)\n",
    "    l2 = model.encoder(b)\n",
    "    l_avg = (l1+l2)/2\n",
    "\n",
    "    o1 = model.decoder(l1)\n",
    "    o2 = model.decoder(l2)\n",
    "    o3 = model.decoder(l_avg)\n",
    "\n",
    "    display_img(o1)\n",
    "    display_img(o2)\n",
    "    display_img(o3)"
   ]
  },
  {
   "cell_type": "code",
   "execution_count": 46,
   "id": "7ddb0f3b",
   "metadata": {},
   "outputs": [
    {
     "name": "stdout",
     "output_type": "stream",
     "text": [
      "torch.Size([1028, 10])\n",
      "torch.Size([1135, 10])\n",
      "torch.Size([10])\n",
      "torch.Size([10])\n",
      "mse:  2.430476427078247\n"
     ]
    },
    {
     "data": {
      "image/png": "[encoded data removed]",
      "text/plain": [
       "<Figure size 432x288 with 1 Axes>"
      ]
     },
     "metadata": {
      "needs_background": "light"
     },
     "output_type": "display_data"
    },
    {
     "data": {
      "image/png": "[encoded data removed]",
      "text/plain": [
       "<Figure size 432x288 with 1 Axes>"
      ]
     },
     "metadata": {
      "needs_background": "light"
     },
     "output_type": "display_data"
    },
    {
     "data": {
      "image/png": "[encoded data removed]",
      "text/plain": [
       "<Figure size 432x288 with 1 Axes>"
      ]
     },
     "metadata": {
      "needs_background": "light"
     },
     "output_type": "display_data"
    }
   ],
   "source": [
    "# Taking all the images of those particular labels\n",
    "# Finding the corresponding latent vectors for all the images\n",
    "# Taking the mean/median of latent vectors\n",
    "# Plotting the weighted average of mean_latent vectors.\n",
    "# Also, Finding mse b/w the 2 mean_latent vectors\n",
    "\n",
    "\n",
    "rule_1 = y_te==7\n",
    "rule_2 = y_te==1\n",
    "\n",
    "a = torch.tensor(X_te_imgs[rule_1])/255\n",
    "b = torch.tensor(X_te_imgs[rule_2])/255\n",
    "\n",
    "mse = torch.nn.MSELoss()\n",
    "\n",
    "with torch.no_grad():\n",
    "    l1 = model.encoder(a)\n",
    "    l2 = model.encoder(b)\n",
    "    \n",
    "    print(l1.shape)\n",
    "    print(l2.shape)\n",
    "    \n",
    "    l1_mean = l1.mean(axis=0)\n",
    "    l2_mean = l2.mean(axis=0)\n",
    "    print(l1_mean.shape)\n",
    "    print(l2_mean.shape)\n",
    "    \n",
    "    mse_val = mse(l1_mean, l2_mean)\n",
    "    print(\"mse: \", mse_val.item())\n",
    "    \n",
    "    w = 0.4\n",
    "    l_avg = (w*l1_mean + (1-w)*l2_mean)\n",
    "\n",
    "    o1 = model.decoder(l1_mean)\n",
    "    o2 = model.decoder(l2_mean)\n",
    "    o3 = model.decoder(l_avg)\n",
    "\n",
    "    display_img(o1)\n",
    "    display_img(o2)\n",
    "    display_img(o3)"
   ]
  },
  {
   "cell_type": "code",
   "execution_count": null,
   "id": "7f4e4a33",
   "metadata": {},
   "outputs": [],
   "source": []
  },
  {
   "cell_type": "code",
   "execution_count": null,
   "id": "62d1a4df",
   "metadata": {},
   "outputs": [],
   "source": []
  }
 ],
 "metadata": {
  "kernelspec": {
   "display_name": "Python 3",
   "language": "python",
   "name": "python3"
  },
  "language_info": {
   "codemirror_mode": {
    "name": "ipython",
    "version": 3
   },
   "file_extension": ".py",
   "mimetype": "text/x-python",
   "name": "python",
   "nbconvert_exporter": "python",
   "pygments_lexer": "ipython3",
   "version": "3.8.2"
  }
 },
 "nbformat": 4,
 "nbformat_minor": 5
}
